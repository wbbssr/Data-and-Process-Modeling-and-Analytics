{
 "cells": [
  {
   "cell_type": "code",
   "execution_count": 1,
   "metadata": {},
   "outputs": [],
   "source": [
    "import os\n",
    "import folium\n",
    "import numpy as np\n",
    "import pandas as pd\n",
    "import math\n",
    "from collections import Counter\n",
    "import matplotlib\n",
    "import matplotlib.pyplot as plt\n",
    "from scipy.ndimage.interpolation import shift\n",
    "import scipy.stats as stats\n",
    "from scipy.stats import norm\n",
    "import matplotlib.mlab as mlab\n",
    "import pylab as pl\n",
    "from folium.plugins import HeatMap\n",
    "\n",
    "%matplotlib inline\n",
    "%config InlineBackend.figure_format = 'svg'"
   ]
  },
  {
   "cell_type": "code",
   "execution_count": 2,
   "metadata": {},
   "outputs": [],
   "source": [
    "battery_gps_df = pd.read_csv(\"battery_gps.csv\")\n",
    "battery_gps_df.record_time = battery_gps_df.record_time.astype('datetime64[s]')"
   ]
  },
  {
   "cell_type": "code",
   "execution_count": 3,
   "metadata": {},
   "outputs": [
    {
     "data": {
      "text/plain": [
       "record_time    datetime64[ns]\n",
       "user_id                 int64\n",
       "level                   int64\n",
       "plugged                 int64\n",
       "accu                  float64\n",
       "lat                   float64\n",
       "lon                   float64\n",
       "grid_x                  int64\n",
       "grid_y                  int64\n",
       "center_lon            float64\n",
       "center_lat            float64\n",
       "is_home                 int64\n",
       "dtype: object"
      ]
     },
     "execution_count": 3,
     "metadata": {},
     "output_type": "execute_result"
    }
   ],
   "source": [
    "battery_gps_df.dtypes"
   ]
  },
  {
   "cell_type": "code",
   "execution_count": 4,
   "metadata": {},
   "outputs": [],
   "source": [
    "def home_charge_percentage(df):\n",
    "    charge_df = df[df['plugged'] != 0]\n",
    "    home_charge_df = charge_df[charge_df['is_home'] == 1]\n",
    "    \n",
    "    charge_counts = charge_df.groupby(['user_id']).size().reset_index(name='total_count')\n",
    "    home_charge_counts = home_charge_df.groupby(['user_id']).size().reset_index(name='count')\n",
    "    home_charge_counts.set_index('user_id', inplace=True)\n",
    "    \n",
    "    merged_counts = pd.merge(home_charge_counts, charge_counts, on='user_id', how='outer')\n",
    "    merged_counts.loc[:, 'home_charge_perc'] = merged_counts['count'] / merged_counts['total_count']\n",
    "    \n",
    "    merged_counts = merged_counts.drop(columns = ['count', 'total_count'])\n",
    "    \n",
    "    return merged_counts"
   ]
  },
  {
   "cell_type": "code",
   "execution_count": 5,
   "metadata": {},
   "outputs": [],
   "source": [
    "def plug_in_time_percentage(df):\n",
    "    plug_counts = df.groupby(['user_id', 'plugged']).size().reset_index(name='count')\n",
    "    total_counts = df.groupby(['user_id']).size().reset_index(name='total_count')\n",
    "    \n",
    "    plug_counts.set_index('user_id', inplace=True)\n",
    "    plug_counts = plug_counts.pivot(index=plug_counts.index, columns='plugged')['count']\n",
    "    print(plug_counts.head())\n",
    "    plug_counts.columns = ['uncharged', 'charging_mode1', 'charging_mode2']\n",
    "    plug_counts = plug_counts.fillna(0)\n",
    "    \n",
    "    merged_counts = pd.merge(plug_counts, total_counts, on='user_id', how='outer')\n",
    "    merged_counts.loc[:, 'uncharge_perc'] = merged_counts['uncharged'] / merged_counts['total_count']\n",
    "    merged_counts.loc[:, 'charging_mode1_perc'] = merged_counts['charging_mode1'] / merged_counts['total_count']\n",
    "    merged_counts.loc[:, 'charging_mode2_perc'] = merged_counts['charging_mode2'] / merged_counts['total_count']\n",
    "    merged_counts = merged_counts.drop(columns = ['uncharged', 'charging_mode1', 'charging_mode2', 'total_count'])\n",
    "    \n",
    "    # return a dataframe that contains user_id and aggregated features\n",
    "    return merged_counts"
   ]
  },
  {
   "cell_type": "code",
   "execution_count": 6,
   "metadata": {},
   "outputs": [],
   "source": [
    "def mean_length_charge_per_user(df):\n",
    "    df.loc[df.plugged != 0, 'plugged'] = 1 \n",
    "    df.sort_values(['user_id', 'record_time'])\n",
    "    df = df.drop(columns=['level', 'accu','lat', 'lon'])\n",
    "\n",
    "    df.loc[:, 'plugged_change'] = shift(df.plugged, -1, cval=0) - df['plugged']\n",
    "    \n",
    "    df.loc[:, 'temp'] = df.plugged_change.cumsum()\n",
    "    df['temp'] = 1 - df['temp']\n",
    "    df.loc[:, 'cumsum_of_temp'] = df.temp.cumsum()\n",
    "    \n",
    "    length_charge = df.groupby(['user_id', 'cumsum_of_temp']).size().reset_index(name='charge_length')\n",
    "    length_charge = length_charge.drop(length_charge[length_charge.charge_length <= 1].index)\n",
    "    length_charge = length_charge.drop(columns = ['cumsum_of_temp'])\n",
    "    \n",
    "    mean_length_charge = length_charge.groupby(['user_id']).mean().reset_index()\n",
    "    \n",
    "    # return mean charge length in battery record unit. We can convert it into minute by multiplying 5 minutes\n",
    "    return mean_length_charge"
   ]
  },
  {
   "cell_type": "code",
   "execution_count": 7,
   "metadata": {},
   "outputs": [],
   "source": [
    "def num_charges_per_user(df):\n",
    "    df.loc[df.plugged != 0, 'plugged'] = 1 \n",
    "    df.sort_values(['user_id', 'record_time'])\n",
    "    df = df.drop(columns=['level', 'accu','lat', 'lon'])\n",
    "\n",
    "    \n",
    "    df.loc[:, 'plugged_change'] = shift(df.plugged, -1, cval=0) - df['plugged']\n",
    "    df.loc[:, 'change_user'] = shift(df.user_id, -1, cval=0) - df['user_id']\n",
    "    df.loc[df['change_user'] != 0, 'plugged_change'] = 0\n",
    "    df = df.drop(columns=['change_user'])\n",
    "    \n",
    "    min_time = df.record_time.min()\n",
    "    df.loc[:,'total_secs'] = (df.record_time - min_time).dt.total_seconds()\n",
    "    last_total_secs = df.iloc[-1,:].total_secs\n",
    "    df.loc[:,'changed_secs'] = shift(df.total_secs, -1, cval=last_total_secs) - df.total_secs\n",
    "    df.loc[df['changed_secs'] > 18 * 3600, 'plugged_change'] = 0\n",
    "    df = df.drop(columns=['record_time', 'total_secs', 'changed_secs'])\n",
    "    \n",
    "    charge_counts = df.groupby(['user_id', 'plugged_change']).size().reset_index(name='charge_count')\n",
    "    charge_counts = charge_counts.drop(charge_counts[charge_counts.plugged_change != 1].index)\n",
    "    charge_counts = charge_counts.drop(columns=['plugged_change'])\n",
    "    \n",
    "    return charge_counts"
   ]
  },
  {
   "cell_type": "code",
   "execution_count": 8,
   "metadata": {},
   "outputs": [],
   "source": [
    "def num_charges_per_user_four_interval(df):\n",
    "    df = df.set_index('record_time', inplace=False)\n",
    "    \n",
    "    df_1 = df.between_time('00:00:00', '05:59:59')\n",
    "    df_2 = df.between_time('06:00:00', '11:59:59')\n",
    "    df_3 = df.between_time('12:00:00', '17:59:59')\n",
    "    df_4 = df.between_time('18:00:00', '23:59:59')\n",
    "    \n",
    "    df_1.reset_index(inplace=True)\n",
    "    df_2.reset_index(inplace=True)\n",
    "    df_3.reset_index(inplace=True)\n",
    "    df_4.reset_index(inplace=True)\n",
    "    \n",
    "    charge_counts_1 = num_charges_per_user(df_1)\n",
    "    charge_counts_2 = num_charges_per_user(df_2)\n",
    "    charge_counts_3 = num_charges_per_user(df_3)\n",
    "    charge_counts_4 = num_charges_per_user(df_4)\n",
    "    \n",
    "    charge_counts_1.columns = ['user_id', 'charge_count_1']\n",
    "    charge_counts_2.columns = ['user_id', 'charge_count_2']\n",
    "    charge_counts_3.columns = ['user_id', 'charge_count_3']\n",
    "    charge_counts_4.columns = ['user_id', 'charge_count_4']\n",
    "    \n",
    "    charge_counts = pd.merge(charge_counts_1, charge_counts_2, on='user_id', how='outer')\n",
    "    charge_counts = pd.merge(charge_counts, charge_counts_3, on='user_id', how='outer')\n",
    "    charge_counts = pd.merge(charge_counts, charge_counts_4, on='user_id', how='outer')\n",
    "    \n",
    "    return charge_counts"
   ]
  },
  {
   "cell_type": "code",
   "execution_count": 9,
   "metadata": {},
   "outputs": [],
   "source": [
    "# should deleter later\n",
    "# excluded \"start charge\" events where the phone was already at 100%\n",
    "def num_charges_per_user_v2(df):\n",
    "    df.loc[:, 'inside_100_level'] = (df.level == 100) & (shift(df.level, -1, cval=0) == 100) & (shift(df.level, -2, cval=0) == 100) & (shift(df.level, -3, cval=0) == 100)\n",
    "    df = df[df['inside_100_level'] == False]\n",
    "    \n",
    "    df.loc[df.plugged != 0, 'plugged'] = 1 \n",
    "    df.sort_values(['user_id', 'record_time'])\n",
    "    df = df.drop(columns=['record_time', 'level', 'accu','lat', 'lon'])\n",
    "    \n",
    "    df.loc[:, 'plugged_change'] = shift(df.plugged, -1, cval=0) - df['plugged']\n",
    "    charge_counts = df.groupby(['user_id', 'plugged_change']).size().reset_index(name='charge_count')\n",
    "    charge_counts = charge_counts.drop(charge_counts[charge_counts.plugged_change != 1].index)\n",
    "    charge_counts = charge_counts.drop(columns=['plugged_change'])\n",
    "    \n",
    "    return charge_counts"
   ]
  },
  {
   "cell_type": "code",
   "execution_count": 10,
   "metadata": {},
   "outputs": [],
   "source": [
    "def num_cells_charge_per_user(df):\n",
    "    cells_df = df.groupby(['user_id', 'grid_x', 'grid_y']).sum().reset_index()\n",
    "    cells_df = cells_df[cells_df['plugged'] > 0]\n",
    "    \n",
    "    return cells_df.groupby(['user_id']).size().reset_index(name='charge_cell_counts')"
   ]
  },
  {
   "cell_type": "code",
   "execution_count": 11,
   "metadata": {},
   "outputs": [],
   "source": [
    "# First we keep 100 battery level while charging records as a separate bin\n",
    "# Then we partition 0-100 into (n - 1) parts equally\n",
    "# parameter df: dataframe\n",
    "# parameter n: total number of bins\n",
    "# return a dataframe with one row for each user and columns including: user_id and one column for one bin frequency\n",
    "def battery_level_bins_percentage(df, n = 5):\n",
    "    df.loc[:, 'which_bin'] = np.floor(df['level'] / (100 / (n - 1)))\n",
    "    # Those 100 battery level but not charging should be in the penultimate bin\n",
    "    df.loc[(df['level'] == 100) & (df['plugged'] == 0), 'which_bin'] = n - 2\n",
    "    df['which_bin'] = df['which_bin'].astype('int')\n",
    "    bins_df = df.groupby(by=['user_id', 'which_bin']).size().reset_index(name='count')\n",
    "    \n",
    "    bins_df.set_index('user_id', inplace=True)\n",
    "    bins_df = bins_df.pivot(index=bins_df.index, columns='which_bin')['count']\n",
    "    del bins_df.columns.name\n",
    "    \n",
    "    bins_df.loc[:, 'sum'] = bins_df[0]\n",
    "    for i in range(1, n):\n",
    "        bins_df['sum'] = bins_df['sum'] + bins_df[i]\n",
    "        \n",
    "    columns_name = [] \n",
    "    for i in range(0, n):\n",
    "        columns_name.append('battery_level_bin_' + str(i) + '_perc')\n",
    "        bins_df[i] = bins_df[i] / bins_df['sum']\n",
    "        \n",
    "    bins_df = bins_df.drop(columns=['sum'])\n",
    "    bins_df.columns = columns_name\n",
    "    bins_df.reset_index(inplace=True)\n",
    "    \n",
    "    return bins_df"
   ]
  },
  {
   "cell_type": "code",
   "execution_count": 12,
   "metadata": {},
   "outputs": [],
   "source": [
    "home_charge_percentage = home_charge_percentage(battery_gps_df)"
   ]
  },
  {
   "cell_type": "code",
   "execution_count": 13,
   "metadata": {},
   "outputs": [
    {
     "data": {
      "text/html": [
       "<div>\n",
       "<style scoped>\n",
       "    .dataframe tbody tr th:only-of-type {\n",
       "        vertical-align: middle;\n",
       "    }\n",
       "\n",
       "    .dataframe tbody tr th {\n",
       "        vertical-align: top;\n",
       "    }\n",
       "\n",
       "    .dataframe thead th {\n",
       "        text-align: right;\n",
       "    }\n",
       "</style>\n",
       "<table border=\"1\" class=\"dataframe\">\n",
       "  <thead>\n",
       "    <tr style=\"text-align: right;\">\n",
       "      <th></th>\n",
       "      <th>user_id</th>\n",
       "      <th>home_charge_perc</th>\n",
       "    </tr>\n",
       "  </thead>\n",
       "  <tbody>\n",
       "    <tr>\n",
       "      <th>0</th>\n",
       "      <td>514</td>\n",
       "      <td>0.681629</td>\n",
       "    </tr>\n",
       "    <tr>\n",
       "      <th>1</th>\n",
       "      <td>534</td>\n",
       "      <td>0.644766</td>\n",
       "    </tr>\n",
       "    <tr>\n",
       "      <th>2</th>\n",
       "      <td>551</td>\n",
       "      <td>0.899927</td>\n",
       "    </tr>\n",
       "    <tr>\n",
       "      <th>3</th>\n",
       "      <td>555</td>\n",
       "      <td>0.456202</td>\n",
       "    </tr>\n",
       "    <tr>\n",
       "      <th>4</th>\n",
       "      <td>559</td>\n",
       "      <td>0.970503</td>\n",
       "    </tr>\n",
       "  </tbody>\n",
       "</table>\n",
       "</div>"
      ],
      "text/plain": [
       "   user_id  home_charge_perc\n",
       "0      514          0.681629\n",
       "1      534          0.644766\n",
       "2      551          0.899927\n",
       "3      555          0.456202\n",
       "4      559          0.970503"
      ]
     },
     "execution_count": 13,
     "metadata": {},
     "output_type": "execute_result"
    }
   ],
   "source": [
    "home_charge_percentage.head()"
   ]
  },
  {
   "cell_type": "code",
   "execution_count": 14,
   "metadata": {},
   "outputs": [
    {
     "name": "stdout",
     "output_type": "stream",
     "text": [
      "plugged       0       1      2\n",
      "user_id                       \n",
      "514      3877.0  2151.0   10.0\n",
      "534      3678.0   923.0  873.0\n",
      "551      3654.0  2708.0   40.0\n",
      "555      4397.0  1701.0    NaN\n",
      "559      3517.0  2068.0    NaN\n"
     ]
    }
   ],
   "source": [
    "plug_counts = plug_in_time_percentage(battery_gps_df)"
   ]
  },
  {
   "cell_type": "code",
   "execution_count": 15,
   "metadata": {},
   "outputs": [
    {
     "data": {
      "text/html": [
       "<div>\n",
       "<style scoped>\n",
       "    .dataframe tbody tr th:only-of-type {\n",
       "        vertical-align: middle;\n",
       "    }\n",
       "\n",
       "    .dataframe tbody tr th {\n",
       "        vertical-align: top;\n",
       "    }\n",
       "\n",
       "    .dataframe thead th {\n",
       "        text-align: right;\n",
       "    }\n",
       "</style>\n",
       "<table border=\"1\" class=\"dataframe\">\n",
       "  <thead>\n",
       "    <tr style=\"text-align: right;\">\n",
       "      <th></th>\n",
       "      <th>user_id</th>\n",
       "      <th>uncharge_perc</th>\n",
       "      <th>charging_mode1_perc</th>\n",
       "      <th>charging_mode2_perc</th>\n",
       "    </tr>\n",
       "  </thead>\n",
       "  <tbody>\n",
       "    <tr>\n",
       "      <th>0</th>\n",
       "      <td>514</td>\n",
       "      <td>0.642100</td>\n",
       "      <td>0.356244</td>\n",
       "      <td>0.001656</td>\n",
       "    </tr>\n",
       "    <tr>\n",
       "      <th>1</th>\n",
       "      <td>534</td>\n",
       "      <td>0.671904</td>\n",
       "      <td>0.168615</td>\n",
       "      <td>0.159481</td>\n",
       "    </tr>\n",
       "    <tr>\n",
       "      <th>2</th>\n",
       "      <td>551</td>\n",
       "      <td>0.570759</td>\n",
       "      <td>0.422993</td>\n",
       "      <td>0.006248</td>\n",
       "    </tr>\n",
       "    <tr>\n",
       "      <th>3</th>\n",
       "      <td>555</td>\n",
       "      <td>0.721056</td>\n",
       "      <td>0.278944</td>\n",
       "      <td>0.000000</td>\n",
       "    </tr>\n",
       "    <tr>\n",
       "      <th>4</th>\n",
       "      <td>559</td>\n",
       "      <td>0.629722</td>\n",
       "      <td>0.370278</td>\n",
       "      <td>0.000000</td>\n",
       "    </tr>\n",
       "  </tbody>\n",
       "</table>\n",
       "</div>"
      ],
      "text/plain": [
       "   user_id  uncharge_perc  charging_mode1_perc  charging_mode2_perc\n",
       "0      514       0.642100             0.356244             0.001656\n",
       "1      534       0.671904             0.168615             0.159481\n",
       "2      551       0.570759             0.422993             0.006248\n",
       "3      555       0.721056             0.278944             0.000000\n",
       "4      559       0.629722             0.370278             0.000000"
      ]
     },
     "execution_count": 15,
     "metadata": {},
     "output_type": "execute_result"
    }
   ],
   "source": [
    "plug_counts.head()"
   ]
  },
  {
   "cell_type": "code",
   "execution_count": 16,
   "metadata": {},
   "outputs": [],
   "source": [
    "charge_counts = num_charges_per_user(battery_gps_df)"
   ]
  },
  {
   "cell_type": "code",
   "execution_count": 17,
   "metadata": {},
   "outputs": [
    {
     "data": {
      "text/html": [
       "<div>\n",
       "<style scoped>\n",
       "    .dataframe tbody tr th:only-of-type {\n",
       "        vertical-align: middle;\n",
       "    }\n",
       "\n",
       "    .dataframe tbody tr th {\n",
       "        vertical-align: top;\n",
       "    }\n",
       "\n",
       "    .dataframe thead th {\n",
       "        text-align: right;\n",
       "    }\n",
       "</style>\n",
       "<table border=\"1\" class=\"dataframe\">\n",
       "  <thead>\n",
       "    <tr style=\"text-align: right;\">\n",
       "      <th></th>\n",
       "      <th>user_id</th>\n",
       "      <th>charge_count</th>\n",
       "    </tr>\n",
       "  </thead>\n",
       "  <tbody>\n",
       "    <tr>\n",
       "      <th>2</th>\n",
       "      <td>514</td>\n",
       "      <td>83</td>\n",
       "    </tr>\n",
       "    <tr>\n",
       "      <th>5</th>\n",
       "      <td>534</td>\n",
       "      <td>100</td>\n",
       "    </tr>\n",
       "    <tr>\n",
       "      <th>8</th>\n",
       "      <td>551</td>\n",
       "      <td>56</td>\n",
       "    </tr>\n",
       "    <tr>\n",
       "      <th>11</th>\n",
       "      <td>555</td>\n",
       "      <td>57</td>\n",
       "    </tr>\n",
       "    <tr>\n",
       "      <th>14</th>\n",
       "      <td>559</td>\n",
       "      <td>35</td>\n",
       "    </tr>\n",
       "  </tbody>\n",
       "</table>\n",
       "</div>"
      ],
      "text/plain": [
       "    user_id  charge_count\n",
       "2       514            83\n",
       "5       534           100\n",
       "8       551            56\n",
       "11      555            57\n",
       "14      559            35"
      ]
     },
     "execution_count": 17,
     "metadata": {},
     "output_type": "execute_result"
    }
   ],
   "source": [
    "charge_counts.head()"
   ]
  },
  {
   "cell_type": "code",
   "execution_count": 18,
   "metadata": {},
   "outputs": [
    {
     "name": "stderr",
     "output_type": "stream",
     "text": [
      "/Users/wbb/anaconda3/envs/cmpt826/lib/python3.7/site-packages/pandas/core/indexing.py:543: SettingWithCopyWarning: \n",
      "A value is trying to be set on a copy of a slice from a DataFrame.\n",
      "Try using .loc[row_indexer,col_indexer] = value instead\n",
      "\n",
      "See the caveats in the documentation: http://pandas.pydata.org/pandas-docs/stable/indexing.html#indexing-view-versus-copy\n",
      "  self.obj[item] = s\n"
     ]
    }
   ],
   "source": [
    "# should delete later\n",
    "charge_counts_2 = num_charges_per_user_v2(battery_gps_df)"
   ]
  },
  {
   "cell_type": "code",
   "execution_count": 19,
   "metadata": {},
   "outputs": [
    {
     "data": {
      "text/html": [
       "<div>\n",
       "<style scoped>\n",
       "    .dataframe tbody tr th:only-of-type {\n",
       "        vertical-align: middle;\n",
       "    }\n",
       "\n",
       "    .dataframe tbody tr th {\n",
       "        vertical-align: top;\n",
       "    }\n",
       "\n",
       "    .dataframe thead th {\n",
       "        text-align: right;\n",
       "    }\n",
       "</style>\n",
       "<table border=\"1\" class=\"dataframe\">\n",
       "  <thead>\n",
       "    <tr style=\"text-align: right;\">\n",
       "      <th></th>\n",
       "      <th>user_id</th>\n",
       "      <th>charge_count</th>\n",
       "    </tr>\n",
       "  </thead>\n",
       "  <tbody>\n",
       "    <tr>\n",
       "      <th>2</th>\n",
       "      <td>514</td>\n",
       "      <td>83</td>\n",
       "    </tr>\n",
       "    <tr>\n",
       "      <th>5</th>\n",
       "      <td>534</td>\n",
       "      <td>100</td>\n",
       "    </tr>\n",
       "    <tr>\n",
       "      <th>8</th>\n",
       "      <td>551</td>\n",
       "      <td>56</td>\n",
       "    </tr>\n",
       "    <tr>\n",
       "      <th>11</th>\n",
       "      <td>555</td>\n",
       "      <td>57</td>\n",
       "    </tr>\n",
       "    <tr>\n",
       "      <th>14</th>\n",
       "      <td>559</td>\n",
       "      <td>36</td>\n",
       "    </tr>\n",
       "  </tbody>\n",
       "</table>\n",
       "</div>"
      ],
      "text/plain": [
       "    user_id  charge_count\n",
       "2       514            83\n",
       "5       534           100\n",
       "8       551            56\n",
       "11      555            57\n",
       "14      559            36"
      ]
     },
     "execution_count": 19,
     "metadata": {},
     "output_type": "execute_result"
    }
   ],
   "source": [
    "# should delete later\n",
    "charge_counts_2.head()"
   ]
  },
  {
   "cell_type": "code",
   "execution_count": 20,
   "metadata": {},
   "outputs": [],
   "source": [
    "charge_counts_four_interval = num_charges_per_user_four_interval(battery_gps_df)"
   ]
  },
  {
   "cell_type": "code",
   "execution_count": 21,
   "metadata": {},
   "outputs": [
    {
     "data": {
      "text/html": [
       "<div>\n",
       "<style scoped>\n",
       "    .dataframe tbody tr th:only-of-type {\n",
       "        vertical-align: middle;\n",
       "    }\n",
       "\n",
       "    .dataframe tbody tr th {\n",
       "        vertical-align: top;\n",
       "    }\n",
       "\n",
       "    .dataframe thead th {\n",
       "        text-align: right;\n",
       "    }\n",
       "</style>\n",
       "<table border=\"1\" class=\"dataframe\">\n",
       "  <thead>\n",
       "    <tr style=\"text-align: right;\">\n",
       "      <th></th>\n",
       "      <th>user_id</th>\n",
       "      <th>charge_count_1</th>\n",
       "      <th>charge_count_2</th>\n",
       "      <th>charge_count_3</th>\n",
       "      <th>charge_count_4</th>\n",
       "    </tr>\n",
       "  </thead>\n",
       "  <tbody>\n",
       "    <tr>\n",
       "      <th>0</th>\n",
       "      <td>514</td>\n",
       "      <td>3.0</td>\n",
       "      <td>15</td>\n",
       "      <td>26</td>\n",
       "      <td>34.0</td>\n",
       "    </tr>\n",
       "    <tr>\n",
       "      <th>1</th>\n",
       "      <td>534</td>\n",
       "      <td>23.0</td>\n",
       "      <td>15</td>\n",
       "      <td>21</td>\n",
       "      <td>37.0</td>\n",
       "    </tr>\n",
       "    <tr>\n",
       "      <th>2</th>\n",
       "      <td>551</td>\n",
       "      <td>2.0</td>\n",
       "      <td>1</td>\n",
       "      <td>13</td>\n",
       "      <td>39.0</td>\n",
       "    </tr>\n",
       "    <tr>\n",
       "      <th>3</th>\n",
       "      <td>555</td>\n",
       "      <td>2.0</td>\n",
       "      <td>26</td>\n",
       "      <td>19</td>\n",
       "      <td>7.0</td>\n",
       "    </tr>\n",
       "    <tr>\n",
       "      <th>4</th>\n",
       "      <td>559</td>\n",
       "      <td>4.0</td>\n",
       "      <td>2</td>\n",
       "      <td>2</td>\n",
       "      <td>26.0</td>\n",
       "    </tr>\n",
       "  </tbody>\n",
       "</table>\n",
       "</div>"
      ],
      "text/plain": [
       "   user_id  charge_count_1  charge_count_2  charge_count_3  charge_count_4\n",
       "0      514             3.0              15              26            34.0\n",
       "1      534            23.0              15              21            37.0\n",
       "2      551             2.0               1              13            39.0\n",
       "3      555             2.0              26              19             7.0\n",
       "4      559             4.0               2               2            26.0"
      ]
     },
     "execution_count": 21,
     "metadata": {},
     "output_type": "execute_result"
    }
   ],
   "source": [
    "# sum of them is larger the result above\n",
    "charge_counts_four_interval.head()"
   ]
  },
  {
   "cell_type": "code",
   "execution_count": 22,
   "metadata": {},
   "outputs": [],
   "source": [
    "mean_length_charge = mean_length_charge_per_user(battery_gps_df)"
   ]
  },
  {
   "cell_type": "code",
   "execution_count": 23,
   "metadata": {},
   "outputs": [
    {
     "data": {
      "text/html": [
       "<div>\n",
       "<style scoped>\n",
       "    .dataframe tbody tr th:only-of-type {\n",
       "        vertical-align: middle;\n",
       "    }\n",
       "\n",
       "    .dataframe tbody tr th {\n",
       "        vertical-align: top;\n",
       "    }\n",
       "\n",
       "    .dataframe thead th {\n",
       "        text-align: right;\n",
       "    }\n",
       "</style>\n",
       "<table border=\"1\" class=\"dataframe\">\n",
       "  <thead>\n",
       "    <tr style=\"text-align: right;\">\n",
       "      <th></th>\n",
       "      <th>user_id</th>\n",
       "      <th>charge_length</th>\n",
       "    </tr>\n",
       "  </thead>\n",
       "  <tbody>\n",
       "    <tr>\n",
       "      <th>0</th>\n",
       "      <td>514</td>\n",
       "      <td>27.048193</td>\n",
       "    </tr>\n",
       "    <tr>\n",
       "      <th>1</th>\n",
       "      <td>534</td>\n",
       "      <td>18.772277</td>\n",
       "    </tr>\n",
       "    <tr>\n",
       "      <th>2</th>\n",
       "      <td>551</td>\n",
       "      <td>49.175439</td>\n",
       "    </tr>\n",
       "    <tr>\n",
       "      <th>3</th>\n",
       "      <td>555</td>\n",
       "      <td>30.842105</td>\n",
       "    </tr>\n",
       "    <tr>\n",
       "      <th>4</th>\n",
       "      <td>559</td>\n",
       "      <td>58.444444</td>\n",
       "    </tr>\n",
       "  </tbody>\n",
       "</table>\n",
       "</div>"
      ],
      "text/plain": [
       "   user_id  charge_length\n",
       "0      514      27.048193\n",
       "1      534      18.772277\n",
       "2      551      49.175439\n",
       "3      555      30.842105\n",
       "4      559      58.444444"
      ]
     },
     "execution_count": 23,
     "metadata": {},
     "output_type": "execute_result"
    }
   ],
   "source": [
    "mean_length_charge.head()"
   ]
  },
  {
   "cell_type": "code",
   "execution_count": 24,
   "metadata": {},
   "outputs": [],
   "source": [
    "charge_cell_counts = num_cells_charge_per_user(battery_gps_df)"
   ]
  },
  {
   "cell_type": "code",
   "execution_count": 25,
   "metadata": {},
   "outputs": [
    {
     "data": {
      "text/html": [
       "<div>\n",
       "<style scoped>\n",
       "    .dataframe tbody tr th:only-of-type {\n",
       "        vertical-align: middle;\n",
       "    }\n",
       "\n",
       "    .dataframe tbody tr th {\n",
       "        vertical-align: top;\n",
       "    }\n",
       "\n",
       "    .dataframe thead th {\n",
       "        text-align: right;\n",
       "    }\n",
       "</style>\n",
       "<table border=\"1\" class=\"dataframe\">\n",
       "  <thead>\n",
       "    <tr style=\"text-align: right;\">\n",
       "      <th></th>\n",
       "      <th>user_id</th>\n",
       "      <th>charge_cell_counts</th>\n",
       "    </tr>\n",
       "  </thead>\n",
       "  <tbody>\n",
       "    <tr>\n",
       "      <th>0</th>\n",
       "      <td>514</td>\n",
       "      <td>33</td>\n",
       "    </tr>\n",
       "    <tr>\n",
       "      <th>1</th>\n",
       "      <td>534</td>\n",
       "      <td>13</td>\n",
       "    </tr>\n",
       "    <tr>\n",
       "      <th>2</th>\n",
       "      <td>551</td>\n",
       "      <td>17</td>\n",
       "    </tr>\n",
       "    <tr>\n",
       "      <th>3</th>\n",
       "      <td>555</td>\n",
       "      <td>17</td>\n",
       "    </tr>\n",
       "    <tr>\n",
       "      <th>4</th>\n",
       "      <td>559</td>\n",
       "      <td>2</td>\n",
       "    </tr>\n",
       "  </tbody>\n",
       "</table>\n",
       "</div>"
      ],
      "text/plain": [
       "   user_id  charge_cell_counts\n",
       "0      514                  33\n",
       "1      534                  13\n",
       "2      551                  17\n",
       "3      555                  17\n",
       "4      559                   2"
      ]
     },
     "execution_count": 25,
     "metadata": {},
     "output_type": "execute_result"
    }
   ],
   "source": [
    "charge_cell_counts.head()"
   ]
  },
  {
   "cell_type": "code",
   "execution_count": 26,
   "metadata": {},
   "outputs": [],
   "source": [
    "battery_level_bins_perc = battery_level_bins_percentage(battery_gps_df, 3)"
   ]
  },
  {
   "cell_type": "code",
   "execution_count": 27,
   "metadata": {},
   "outputs": [
    {
     "data": {
      "text/html": [
       "<div>\n",
       "<style scoped>\n",
       "    .dataframe tbody tr th:only-of-type {\n",
       "        vertical-align: middle;\n",
       "    }\n",
       "\n",
       "    .dataframe tbody tr th {\n",
       "        vertical-align: top;\n",
       "    }\n",
       "\n",
       "    .dataframe thead th {\n",
       "        text-align: right;\n",
       "    }\n",
       "</style>\n",
       "<table border=\"1\" class=\"dataframe\">\n",
       "  <thead>\n",
       "    <tr style=\"text-align: right;\">\n",
       "      <th></th>\n",
       "      <th>user_id</th>\n",
       "      <th>battery_level_bin_0_perc</th>\n",
       "      <th>battery_level_bin_1_perc</th>\n",
       "      <th>battery_level_bin_2_perc</th>\n",
       "    </tr>\n",
       "  </thead>\n",
       "  <tbody>\n",
       "    <tr>\n",
       "      <th>0</th>\n",
       "      <td>514</td>\n",
       "      <td>0.380755</td>\n",
       "      <td>0.411891</td>\n",
       "      <td>0.207353</td>\n",
       "    </tr>\n",
       "    <tr>\n",
       "      <th>1</th>\n",
       "      <td>534</td>\n",
       "      <td>0.484289</td>\n",
       "      <td>0.470954</td>\n",
       "      <td>0.044757</td>\n",
       "    </tr>\n",
       "    <tr>\n",
       "      <th>2</th>\n",
       "      <td>551</td>\n",
       "      <td>0.283037</td>\n",
       "      <td>0.422212</td>\n",
       "      <td>0.294752</td>\n",
       "    </tr>\n",
       "    <tr>\n",
       "      <th>3</th>\n",
       "      <td>555</td>\n",
       "      <td>0.233027</td>\n",
       "      <td>0.640538</td>\n",
       "      <td>0.126435</td>\n",
       "    </tr>\n",
       "    <tr>\n",
       "      <th>4</th>\n",
       "      <td>559</td>\n",
       "      <td>0.243688</td>\n",
       "      <td>0.462310</td>\n",
       "      <td>0.294002</td>\n",
       "    </tr>\n",
       "  </tbody>\n",
       "</table>\n",
       "</div>"
      ],
      "text/plain": [
       "   user_id  battery_level_bin_0_perc  battery_level_bin_1_perc  \\\n",
       "0      514                  0.380755                  0.411891   \n",
       "1      534                  0.484289                  0.470954   \n",
       "2      551                  0.283037                  0.422212   \n",
       "3      555                  0.233027                  0.640538   \n",
       "4      559                  0.243688                  0.462310   \n",
       "\n",
       "   battery_level_bin_2_perc  \n",
       "0                  0.207353  \n",
       "1                  0.044757  \n",
       "2                  0.294752  \n",
       "3                  0.126435  \n",
       "4                  0.294002  "
      ]
     },
     "execution_count": 27,
     "metadata": {},
     "output_type": "execute_result"
    }
   ],
   "source": [
    "battery_level_bins_perc.head()"
   ]
  },
  {
   "cell_type": "code",
   "execution_count": 50,
   "metadata": {},
   "outputs": [],
   "source": [
    "df_for_classify = pd.merge(home_charge_percentage, plug_counts, on='user_id', how='outer')"
   ]
  },
  {
   "cell_type": "code",
   "execution_count": 51,
   "metadata": {},
   "outputs": [],
   "source": [
    "df_for_classify = pd.merge(df_for_classify, charge_counts, on='user_id', how='outer')"
   ]
  },
  {
   "cell_type": "code",
   "execution_count": 52,
   "metadata": {},
   "outputs": [],
   "source": [
    "df_for_classify = pd.merge(df_for_classify, mean_length_charge, on='user_id', how='outer')"
   ]
  },
  {
   "cell_type": "code",
   "execution_count": 53,
   "metadata": {},
   "outputs": [],
   "source": [
    "df_for_classify = pd.merge(df_for_classify, charge_cell_counts, on='user_id', how='outer')"
   ]
  },
  {
   "cell_type": "code",
   "execution_count": 54,
   "metadata": {},
   "outputs": [],
   "source": [
    "df_for_classify = pd.merge(df_for_classify, battery_level_bins_perc, on='user_id', how='outer')"
   ]
  },
  {
   "cell_type": "code",
   "execution_count": 55,
   "metadata": {},
   "outputs": [],
   "source": [
    "#df_for_classify = pd.merge(df_for_classify, charge_counts_four_interval, on='user_id', how='outer')"
   ]
  },
  {
   "cell_type": "code",
   "execution_count": null,
   "metadata": {},
   "outputs": [],
   "source": []
  },
  {
   "cell_type": "code",
   "execution_count": 56,
   "metadata": {},
   "outputs": [],
   "source": [
    "#df_for_classify = df_for_classify.drop(columns=['charge_count'])"
   ]
  },
  {
   "cell_type": "code",
   "execution_count": 57,
   "metadata": {},
   "outputs": [
    {
     "data": {
      "text/html": [
       "<div>\n",
       "<style scoped>\n",
       "    .dataframe tbody tr th:only-of-type {\n",
       "        vertical-align: middle;\n",
       "    }\n",
       "\n",
       "    .dataframe tbody tr th {\n",
       "        vertical-align: top;\n",
       "    }\n",
       "\n",
       "    .dataframe thead th {\n",
       "        text-align: right;\n",
       "    }\n",
       "</style>\n",
       "<table border=\"1\" class=\"dataframe\">\n",
       "  <thead>\n",
       "    <tr style=\"text-align: right;\">\n",
       "      <th></th>\n",
       "      <th>user_id</th>\n",
       "      <th>home_charge_perc</th>\n",
       "      <th>uncharge_perc</th>\n",
       "      <th>charging_mode1_perc</th>\n",
       "      <th>charging_mode2_perc</th>\n",
       "      <th>charge_count</th>\n",
       "      <th>charge_length</th>\n",
       "      <th>charge_cell_counts</th>\n",
       "      <th>battery_level_bin_0_perc</th>\n",
       "      <th>battery_level_bin_1_perc</th>\n",
       "      <th>battery_level_bin_2_perc</th>\n",
       "    </tr>\n",
       "  </thead>\n",
       "  <tbody>\n",
       "    <tr>\n",
       "      <th>0</th>\n",
       "      <td>514</td>\n",
       "      <td>0.681629</td>\n",
       "      <td>0.642100</td>\n",
       "      <td>0.356244</td>\n",
       "      <td>0.001656</td>\n",
       "      <td>83</td>\n",
       "      <td>27.048193</td>\n",
       "      <td>33</td>\n",
       "      <td>0.380755</td>\n",
       "      <td>0.411891</td>\n",
       "      <td>0.207353</td>\n",
       "    </tr>\n",
       "    <tr>\n",
       "      <th>1</th>\n",
       "      <td>534</td>\n",
       "      <td>0.644766</td>\n",
       "      <td>0.671904</td>\n",
       "      <td>0.168615</td>\n",
       "      <td>0.159481</td>\n",
       "      <td>100</td>\n",
       "      <td>18.772277</td>\n",
       "      <td>13</td>\n",
       "      <td>0.484289</td>\n",
       "      <td>0.470954</td>\n",
       "      <td>0.044757</td>\n",
       "    </tr>\n",
       "    <tr>\n",
       "      <th>2</th>\n",
       "      <td>551</td>\n",
       "      <td>0.899927</td>\n",
       "      <td>0.570759</td>\n",
       "      <td>0.422993</td>\n",
       "      <td>0.006248</td>\n",
       "      <td>56</td>\n",
       "      <td>49.175439</td>\n",
       "      <td>17</td>\n",
       "      <td>0.283037</td>\n",
       "      <td>0.422212</td>\n",
       "      <td>0.294752</td>\n",
       "    </tr>\n",
       "    <tr>\n",
       "      <th>3</th>\n",
       "      <td>555</td>\n",
       "      <td>0.456202</td>\n",
       "      <td>0.721056</td>\n",
       "      <td>0.278944</td>\n",
       "      <td>0.000000</td>\n",
       "      <td>57</td>\n",
       "      <td>30.842105</td>\n",
       "      <td>17</td>\n",
       "      <td>0.233027</td>\n",
       "      <td>0.640538</td>\n",
       "      <td>0.126435</td>\n",
       "    </tr>\n",
       "    <tr>\n",
       "      <th>4</th>\n",
       "      <td>559</td>\n",
       "      <td>0.970503</td>\n",
       "      <td>0.629722</td>\n",
       "      <td>0.370278</td>\n",
       "      <td>0.000000</td>\n",
       "      <td>35</td>\n",
       "      <td>58.444444</td>\n",
       "      <td>2</td>\n",
       "      <td>0.243688</td>\n",
       "      <td>0.462310</td>\n",
       "      <td>0.294002</td>\n",
       "    </tr>\n",
       "  </tbody>\n",
       "</table>\n",
       "</div>"
      ],
      "text/plain": [
       "   user_id  home_charge_perc  uncharge_perc  charging_mode1_perc  \\\n",
       "0      514          0.681629       0.642100             0.356244   \n",
       "1      534          0.644766       0.671904             0.168615   \n",
       "2      551          0.899927       0.570759             0.422993   \n",
       "3      555          0.456202       0.721056             0.278944   \n",
       "4      559          0.970503       0.629722             0.370278   \n",
       "\n",
       "   charging_mode2_perc  charge_count  charge_length  charge_cell_counts  \\\n",
       "0             0.001656            83      27.048193                  33   \n",
       "1             0.159481           100      18.772277                  13   \n",
       "2             0.006248            56      49.175439                  17   \n",
       "3             0.000000            57      30.842105                  17   \n",
       "4             0.000000            35      58.444444                   2   \n",
       "\n",
       "   battery_level_bin_0_perc  battery_level_bin_1_perc  \\\n",
       "0                  0.380755                  0.411891   \n",
       "1                  0.484289                  0.470954   \n",
       "2                  0.283037                  0.422212   \n",
       "3                  0.233027                  0.640538   \n",
       "4                  0.243688                  0.462310   \n",
       "\n",
       "   battery_level_bin_2_perc  \n",
       "0                  0.207353  \n",
       "1                  0.044757  \n",
       "2                  0.294752  \n",
       "3                  0.126435  \n",
       "4                  0.294002  "
      ]
     },
     "execution_count": 57,
     "metadata": {},
     "output_type": "execute_result"
    }
   ],
   "source": [
    "df_for_classify.head()"
   ]
  },
  {
   "cell_type": "code",
   "execution_count": 58,
   "metadata": {},
   "outputs": [],
   "source": [
    "df_for_classify.to_csv('data_for_classify.csv', index=False)"
   ]
  },
  {
   "cell_type": "code",
   "execution_count": 153,
   "metadata": {},
   "outputs": [
    {
     "data": {
      "text/plain": [
       "2       0\n",
       "5       0\n",
       "8       0\n",
       "11      0\n",
       "14     -1\n",
       "17      0\n",
       "20      1\n",
       "23      3\n",
       "26     -1\n",
       "29     -1\n",
       "32     -1\n",
       "35     -1\n",
       "38      0\n",
       "41      0\n",
       "44     10\n",
       "47      5\n",
       "50     -1\n",
       "53      0\n",
       "56      0\n",
       "59      0\n",
       "62      0\n",
       "65      0\n",
       "68      0\n",
       "71     -2\n",
       "74      0\n",
       "77      0\n",
       "80     -1\n",
       "83      0\n",
       "86      0\n",
       "89      0\n",
       "92      0\n",
       "95      3\n",
       "98      0\n",
       "101     0\n",
       "104    -1\n",
       "107     2\n",
       "110     0\n",
       "113     0\n",
       "116    -1\n",
       "119     0\n",
       "122     5\n",
       "Name: charge_count, dtype: int64"
      ]
     },
     "execution_count": 153,
     "metadata": {},
     "output_type": "execute_result"
    }
   ],
   "source": [
    "charge_counts.charge_count - charge_counts_2.charge_count"
   ]
  },
  {
   "cell_type": "code",
   "execution_count": 154,
   "metadata": {},
   "outputs": [],
   "source": []
  },
  {
   "cell_type": "code",
   "execution_count": null,
   "metadata": {},
   "outputs": [],
   "source": []
  },
  {
   "cell_type": "code",
   "execution_count": null,
   "metadata": {},
   "outputs": [],
   "source": []
  },
  {
   "cell_type": "code",
   "execution_count": null,
   "metadata": {},
   "outputs": [],
   "source": []
  },
  {
   "cell_type": "code",
   "execution_count": null,
   "metadata": {},
   "outputs": [],
   "source": []
  },
  {
   "cell_type": "code",
   "execution_count": 70,
   "metadata": {},
   "outputs": [],
   "source": []
  },
  {
   "cell_type": "code",
   "execution_count": null,
   "metadata": {},
   "outputs": [],
   "source": []
  },
  {
   "cell_type": "code",
   "execution_count": 77,
   "metadata": {},
   "outputs": [],
   "source": []
  },
  {
   "cell_type": "code",
   "execution_count": null,
   "metadata": {},
   "outputs": [],
   "source": []
  },
  {
   "cell_type": "code",
   "execution_count": null,
   "metadata": {},
   "outputs": [],
   "source": []
  }
 ],
 "metadata": {
  "kernelspec": {
   "display_name": "Python 3",
   "language": "python",
   "name": "python3"
  },
  "language_info": {
   "codemirror_mode": {
    "name": "ipython",
    "version": 3
   },
   "file_extension": ".py",
   "mimetype": "text/x-python",
   "name": "python",
   "nbconvert_exporter": "python",
   "pygments_lexer": "ipython3",
   "version": "3.7.2"
  }
 },
 "nbformat": 4,
 "nbformat_minor": 2
}
